{
 "cells": [
  {
   "cell_type": "markdown",
   "metadata": {
    "collapsed": true,
    "pycharm": {
     "name": "#%% md\n"
    }
   },
   "source": [
    "## Практические задания к уроку 2. Тема “Элементарная алгебра”"
   ]
  },
  {
   "cell_type": "markdown",
   "source": [
    "1. Задание\n",
    "Напишите уравнение параболы, проходящей через три точки (x,y):\n",
    "(1,2), (3,10), (5,1)"
   ],
   "metadata": {
    "collapsed": false,
    "pycharm": {
     "name": "#%% md\n"
    }
   }
  },
  {
   "cell_type": "markdown",
   "source": [
    "$y = ax^2 + bx + c$ - уравнение параболы\n",
    "\n",
    "\\begin{cases}\n",
    "a + b + c = 2 \\\\\n",
    "9a + 3b + c = 10 \\\\\n",
    "25a + 5b + c = 1\n",
    "\\end{cases}\n",
    "\n",
    "\\begin{cases}\n",
    "$a = -\\frac{17}{8} \\\\\n",
    "b = \\frac{25}{2} \\\\\n",
    "c = -\\frac{77}{8}$\n",
    "\\end{cases}\n",
    "\n",
    "$y = \\frac{25}{2}x - \\frac{17}{8}x^2 - \\frac{67}{8}$"
   ],
   "metadata": {
    "collapsed": false,
    "pycharm": {
     "name": "#%% md\n"
    }
   }
  },
  {
   "cell_type": "markdown",
   "source": [
    "2. Задание\n",
    "Известно, что свежий огурец на 99% состоит из воды. Месяц назад взвесили мешок со свежими огурцами. Получилось, что мешок весил ровно 100 кг. Мешок убрали, а через месяц снова взвесили. Огурцы за это время усохли, и теперь вода составляет уже только 98% их веса. Сколько теперь (в кг) весят огурцы?"
   ],
   "metadata": {
    "collapsed": false,
    "pycharm": {
     "name": "#%% md\n"
    }
   }
  },
  {
   "cell_type": "markdown",
   "source": [
    "x - новый вес огурцов\n",
    "сухое вещество в 100кг - 1% или 1кг\n",
    "сухое вещество не менялось, значит 2% = 1кг, 100% - ?\n",
    "\n",
    "$x = \\frac{1}{0.02} = 50$\n",
    "\n",
    "Теперь огурцы весят 50 кг."
   ],
   "metadata": {
    "collapsed": false,
    "pycharm": {
     "name": "#%% md\n"
    }
   }
  },
  {
   "cell_type": "markdown",
   "source": [
    "3. Задание. Определение логарифма. Решить уравнения:\n",
    "- $2^x = 256; x = 8$\n",
    "- $2^x = 300; x = \\log{_2}{300}$\n",
    "- $\\log{_8}{2^{8x - 4}} = 4; 2^{8x - 4} = 8^4; 2^{8x - 4} = 2^{12}; 8x = 16; x = 2$\n",
    "- $3^{\\log{_9}{5x - 5}} = 5; \\log{_3}{5} = \\log{_9}{5x - 5}; 25 = 5x - 5; x = 6$\n",
    "- $x^{\\log{_3}{x + 1}} = 9$"
   ],
   "metadata": {
    "collapsed": false,
    "pycharm": {
     "name": "#%% md\n"
    }
   }
  },
  {
   "cell_type": "markdown",
   "source": [
    "4. Задание Свойства логарифмов. Вычислить:\n",
    "\n",
    "- $\\log{_4}{16} = 2$\n",
    "- $\\log{_5}{\\frac{1}{25}} = -2$\n",
    "- $\\log{_{25}}{5} = \\frac{1}{2}$\n",
    "- $\\log{_3}{\\sqrt{27}} = \\frac{3}{2}$\n",
    "- $\\log{_2}{12} - \\log{_2}{3} = \\log{_2}{36} = 6$\n",
    "- $\\log{_6}{12} + \\log{_6}{3} = \\log{_6}{36} = 2$\n",
    "- $e^{\\ln{5}} = 5$\n",
    "- $\\frac{\\log{_2}{225}}{\\log{_2}{15}} = \\log{_{15}}{225} = 2$\n",
    "- $\\log{_4}{32} + \\log{_{0.1}}{10} = \\log{_4}{32} - 1 = \\frac{5}{2} - 1 = \\frac{3}{2}$\n",
    "- $9^{\\log{_3}{\\sqrt{5}}} = {\\sqrt{5}}^{2} = 5$"
   ],
   "metadata": {
    "collapsed": false,
    "pycharm": {
     "name": "#%% md\n"
    }
   }
  }
 ],
 "metadata": {
  "kernelspec": {
   "display_name": "Python 3",
   "language": "python",
   "name": "python3"
  },
  "language_info": {
   "codemirror_mode": {
    "name": "ipython",
    "version": 2
   },
   "file_extension": ".py",
   "mimetype": "text/x-python",
   "name": "python",
   "nbconvert_exporter": "python",
   "pygments_lexer": "ipython2",
   "version": "2.7.6"
  }
 },
 "nbformat": 4,
 "nbformat_minor": 0
}