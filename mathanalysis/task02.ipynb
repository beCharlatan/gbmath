{
 "cells": [
  {
   "cell_type": "markdown",
   "id": "7ecc7b89-f0d4-4192-9fa0-79e79da3988c",
   "metadata": {},
   "source": [
    "# Практическая работа. Тема 3 “Последовательность”"
   ]
  },
  {
   "cell_type": "markdown",
   "id": "28f7d7bb-6719-4ed4-9f95-c70a5bf3ce1c",
   "metadata": {},
   "source": [
    "Даны 4 последовательности. Необходимо:\n",
    "- исследовать их на монотонность; \n",
    "- исследовать на ограниченность;\n",
    "- найти пятый по счету член.\n"
   ]
  },
  {
   "cell_type": "markdown",
   "id": "1a5025af-2d88-4c5f-a5e1-92f9b7692351",
   "metadata": {},
   "source": [
    "![Примеры](task02.1.png)"
   ]
  },
  {
   "cell_type": "markdown",
   "id": "4039fa42-fe23-41a2-9f49-0a06483975ff",
   "metadata": {},
   "source": [
    "1. \n",
    "- $a_{n}$ - $a_{n+1}$ = $2^n$ - n - $2^{n+1}$ + n + 1 = $2^n$ - $2^{n+1}$ + 1 < 0 для любых n - последовательность монотонно возрастает\n",
    "- последовательность ограничена снизу: $a_1$ = $2^1$ - 1 = 1\n",
    "- $a_{5}$ = $2^5$ - 5 = 27\n",
    "\n",
    "2.\n",
    "- $b_{n}$ - $b_{n+1}$ = $\\frac{1}{1 - n}$ + $\\frac{1}{n}$ = $\\frac{1}{n - n^2}$ < 0 для любых n >= 2 - последовательность монотонно возрастает \n",
    "- последовательность ограничена снизу -$\\frac{1}{2}$ и сверху 0\n",
    "- $b_5$ = $\\frac{1}{1 - 5}$ = -$\\frac{1}{4}$\n",
    "\n",
    "3.\n",
    "- $c_{n}$ - $c_{n+1}$ = -$1^n$ + $\\sqrt{2n}$ + $1^{n + 1}$ - $\\sqrt{2n + 2}$ < 0 для любых n >= 1 - последовательность монотонно возрастает\n",
    "- последовательность ограничена снизу -1 + $\\sqrt{2}$\n",
    "- $c_5$ = -$1^5$ + $\\sqrt{10}$ = 2.16\n",
    "\n",
    "4.\n",
    "- $d_{n} - d_{n + 1} = (-1)^{2n} + \\frac{1}{n^2} - (-1)^{2n + 2} - \\frac{1}{(n + 1)^2} = \\frac{1}{n^2} - \\frac{1}{(n + 1)^2} > 0$ для любых n >= 1 - последовательность монотонно убывает \n",
    "- последовательность ограничена снизу 1 и сверху 2\n",
    "- $d_5$ = $(-1)^{10} + \\frac{1}{25} = 1.04$"
   ]
  },
  {
   "cell_type": "markdown",
   "id": "4a158044-4aa9-4cf8-af61-a46c3aa49877",
   "metadata": {},
   "source": [
    "Найти 12-й член заданной неявно последовательности"
   ]
  },
  {
   "cell_type": "markdown",
   "id": "da0ec09c-0974-4e16-bd73-74fd6e17fdeb",
   "metadata": {},
   "source": [
    "![Пример](task02.2.png)"
   ]
  },
  {
   "cell_type": "markdown",
   "id": "6bcfc849-5d1f-469e-bb54-b6a38b4d4386",
   "metadata": {},
   "source": [
    "$a_{12} = 128 + (6 * 12) = 200$"
   ]
  },
  {
   "cell_type": "markdown",
   "id": "42ca8d45-c415-41d6-a0c1-ccce4149702b",
   "metadata": {},
   "source": [
    "На языке Python предложить алгоритм вычисляющий численно предел с точностью.\n",
    "Предложить оптимизацию алгоритма, полученного в задании 3, ускоряющую его сходимость."
   ]
  },
  {
   "cell_type": "markdown",
   "id": "20a2a507-c9b3-48b4-badf-7753c0c385ed",
   "metadata": {},
   "source": [
    "![Пример](task02.3.png)"
   ]
  },
  {
   "cell_type": "code",
   "execution_count": 14,
   "id": "fd2e42c9-96d8-4a40-8d43-9c74848e3245",
   "metadata": {},
   "outputs": [
    {
     "data": {
      "text/latex": [
       "$\\displaystyle e$"
      ],
      "text/plain": [
       "E"
      ]
     },
     "execution_count": 14,
     "metadata": {},
     "output_type": "execute_result"
    }
   ],
   "source": [
    "import sympy as sp\n",
    "import math\n",
    "\n",
    "# Переменная стемится к бесконечности\n",
    "inf = math.inf\n",
    "# Переменная\n",
    "n = sp.Symbol('n')\n",
    "\n",
    "factorial_n = sp.factorial(n)\n",
    "\n",
    "# Выражение в знаменателе\n",
    "divider = sp.real_root(factorial_n, n)\n",
    "\n",
    "# Функция предела\n",
    "func = sp.nsimplify(n/divider)\n",
    "\n",
    "limit = sp.limit(func, n, inf)\n",
    "limit"
   ]
  }
 ],
 "metadata": {
  "kernelspec": {
   "display_name": "Python 3",
   "language": "python",
   "name": "python3"
  },
  "language_info": {
   "codemirror_mode": {
    "name": "ipython",
    "version": 3
   },
   "file_extension": ".py",
   "mimetype": "text/x-python",
   "name": "python",
   "nbconvert_exporter": "python",
   "pygments_lexer": "ipython3",
   "version": "3.8.8"
  }
 },
 "nbformat": 4,
 "nbformat_minor": 5
}
