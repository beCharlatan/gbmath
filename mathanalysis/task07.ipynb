{
 "cells": [
  {
   "cell_type": "markdown",
   "id": "6a28de8d-1c7a-4109-a4ae-e9be46eaa2e0",
   "metadata": {},
   "source": [
    "## Практичское задание #7"
   ]
  },
  {
   "cell_type": "markdown",
   "id": "9b2a1faf-995f-4cf0-b5b0-0e1bfe0156f7",
   "metadata": {},
   "source": [
    "No1. Найти длину и ширину\n",
    "прямоугольника при заданном\n",
    "периметре =144 cм, при которых\n",
    "данный прямоугольник имеет\n",
    "наибольшую площадь ."
   ]
  },
  {
   "cell_type": "markdown",
   "id": "d6f1e347-99f2-477e-9bef-e422edbbaeda",
   "metadata": {},
   "source": [
    "- P = 144 см - периметр прямоугольника\n",
    "- x - одна из сторон прямоугольника\n",
    "- $\\frac{P - 2x}{2} = 72 - x$ - другая сторона прямоугольника\n",
    "- $S = x(72 - x)$ - площадь прямоугольника\n",
    "\n",
    "$S' = (72x - x^2)' = 72 - 2x$\n",
    "\n",
    "$2x = 72$\n",
    "\n",
    "$x = 36$, при x < 36, S' > 0, при x > 36, S' < 0, значит это максимум функции\n",
    "\n",
    "x = 36 - одна сторона прямоугольника\n",
    "\n",
    "72 - x = 36 - другая сторона прямоугольника, который является квадратом"
   ]
  },
  {
   "cell_type": "markdown",
   "id": "6b37c8ed-0c13-49cc-a5c8-7128c09aa487",
   "metadata": {},
   "source": [
    "No2. найти экстремумы функций (если они есть)\n",
    "\n",
    "- $y = |2x|$\n",
    "- $y = x^3$\n",
    "- $y = e^{3x}$\n",
    "- $y = x^3 - 5x$"
   ]
  },
  {
   "cell_type": "markdown",
   "id": "730d7619-36d7-4b36-a9e9-cc3d85ba2781",
   "metadata": {},
   "source": [
    "### $y = |2x|$\n",
    "\n",
    "$y' = 2sign(x)$\n",
    "\n",
    "$x = 0$"
   ]
  },
  {
   "cell_type": "markdown",
   "id": "3f578570-7c5f-411d-9327-cf50c2caacbb",
   "metadata": {},
   "source": [
    "### $y = x^3$\n",
    "\n",
    "$y' = 3x^2$\n",
    "\n",
    "$x = 0$"
   ]
  },
  {
   "cell_type": "markdown",
   "id": "ee80a471-7a97-47b3-baa1-bf2fda4953f4",
   "metadata": {},
   "source": [
    "### $y = e^{3x}$\n",
    "\n",
    "$y' = 3e^{3x}$\n",
    "\n",
    "Не существует"
   ]
  },
  {
   "cell_type": "markdown",
   "id": "eabcacc6-ef7a-446a-bc21-49a271d4f421",
   "metadata": {},
   "source": [
    "### $y = x^3 - 5x$\n",
    "\n",
    "$y' = 3x^2 - 5$\n",
    "\n",
    "$x = \\pm \\sqrt{\\frac{5}{3}}$"
   ]
  }
 ],
 "metadata": {
  "kernelspec": {
   "display_name": "Python 3",
   "language": "python",
   "name": "python3"
  },
  "language_info": {
   "codemirror_mode": {
    "name": "ipython",
    "version": 3
   },
   "file_extension": ".py",
   "mimetype": "text/x-python",
   "name": "python",
   "nbconvert_exporter": "python",
   "pygments_lexer": "ipython3",
   "version": "3.8.8"
  }
 },
 "nbformat": 4,
 "nbformat_minor": 5
}
