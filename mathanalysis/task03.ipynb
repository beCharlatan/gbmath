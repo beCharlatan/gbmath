{
 "cells": [
  {
   "cell_type": "markdown",
   "id": "210955ef-230c-4f5d-a8e0-0da6d7815831",
   "metadata": {},
   "source": [
    "## Практическая работа №4. Тема “Предел функции”"
   ]
  },
  {
   "cell_type": "markdown",
   "id": "46e4d9c1-352c-4fb9-a23f-4d8d72804c37",
   "metadata": {},
   "source": [
    "1. Предложить пример функции, не имеющей предела в нуле и в бесконечностях."
   ]
  },
  {
   "cell_type": "markdown",
   "id": "52ba470a-c352-4a65-ac81-305f1716b054",
   "metadata": {},
   "source": [
    "$\\lim_{x \\to \\infty} f(x^2 - x)$"
   ]
  },
  {
   "cell_type": "markdown",
   "id": "c70a6d94-3fd6-4a6e-823a-cadd47492751",
   "metadata": {},
   "source": [
    "2. Привести пример функции, не имеющей предела в точке, но определенной в ней."
   ]
  },
  {
   "cell_type": "markdown",
   "id": "af72b813-56b5-44af-b9ca-b2b0017cf090",
   "metadata": {},
   "source": [
    "$f(x) = sign(x)$"
   ]
  },
  {
   "cell_type": "markdown",
   "id": "a7f0f9a7-4c4c-4b01-a18f-2ac1e83f3dcb",
   "metadata": {},
   "source": [
    "3. Исследовать функцию  по плану:\n",
    "- Область задания и область значений.\n",
    "- Нули функции и их кратность.\n",
    "- Отрезки знакопостоянства.\n",
    "- Интервалы монотонности.\n",
    "- Четность функции.\n",
    "- Ограниченность.\n",
    "- Периодичность.\n",
    "\n",
    "### $f(x) = x^3 - x^2$"
   ]
  },
  {
   "cell_type": "markdown",
   "source": [
    "- $D(f) = R; E(f) = R;$\n",
    "- $f(x) = 0 : x = 0 || x = 1$\n",
    "- $(-\\infty; 0) => y < 0; (0; 1) => y < 0; (1; \\infty) => y > 0$\n",
    "- $f(x) > 0 : x \\in (-\\infty; 0); f(x) < 0 : x \\in (0; 2/3); f(x) > 0 : x \\in (2/3; \\infty);$\n",
    "- функция общего вида\n",
    "- функция не ограничена\n",
    "- непериодическая функция"
   ],
   "metadata": {
    "collapsed": false,
    "pycharm": {
     "name": "#%% md\n"
    }
   }
  },
  {
   "cell_type": "markdown",
   "source": [
    "4. Найти предел:"
   ],
   "metadata": {
    "collapsed": false,
    "pycharm": {
     "name": "#%% md\n"
    }
   }
  },
  {
   "cell_type": "markdown",
   "source": [
    "$\\displaystyle \\lim_{x \\to 0} \\frac{(3x^3 - 2x^2)}{4x^2} = 0$"
   ],
   "metadata": {
    "collapsed": false,
    "pycharm": {
     "name": "#%% md\n"
    }
   }
  },
  {
   "cell_type": "markdown",
   "source": [
    "$\\displaystyle \\lim_{x \\to 0} \\frac{\\sqrt{1 + x} - 1}{\\sqrt[3]{1 + x} - 1} = 1$"
   ],
   "metadata": {
    "collapsed": false,
    "pycharm": {
     "name": "#%% md\n"
    }
   }
  },
  {
   "cell_type": "markdown",
   "source": [
    "$\\displaystyle \\lim_{x \\to 0} (\\frac{x + 3}{x})^{4x + 1} = \\infty$"
   ],
   "metadata": {
    "collapsed": false,
    "pycharm": {
     "name": "#%% md\n"
    }
   }
  },
  {
   "cell_type": "markdown",
   "source": [
    "## Тема “Теоремы о пределах”"
   ],
   "metadata": {
    "collapsed": false,
    "pycharm": {
     "name": "#%% md\n"
    }
   }
  },
  {
   "cell_type": "markdown",
   "source": [
    "$\\displaystyle \\lim_{x \\to 0} \\frac{sin{2x}}{4x} = \\frac{1}{2}$"
   ],
   "metadata": {
    "collapsed": false,
    "pycharm": {
     "name": "#%% md\n"
    }
   }
  },
  {
   "cell_type": "markdown",
   "source": [
    "$\\displaystyle \\lim_{x \\to 0} \\frac{x}{sin{x}} = 1$"
   ],
   "metadata": {
    "collapsed": false,
    "pycharm": {
     "name": "#%% md\n"
    }
   }
  },
  {
   "cell_type": "markdown",
   "source": [
    "$\\displaystyle \\lim_{x \\to 0} \\frac{x}{\\arcsin{x}} = 1$"
   ],
   "metadata": {
    "collapsed": false,
    "pycharm": {
     "name": "#%% md\n"
    }
   }
  },
  {
   "cell_type": "markdown",
   "source": [
    "$\\displaystyle \\lim_{x \\to \\infty} (\\frac{4x + 3}{4x - 3})^{6x} = ?$"
   ],
   "metadata": {
    "collapsed": false,
    "pycharm": {
     "name": "#%% md\n"
    }
   }
  },
  {
   "cell_type": "markdown",
   "source": [
    "$\\displaystyle \\lim_{x \\to \\infty} \\frac{\\sin{x} + \\ln{x}}{x} = 0$"
   ],
   "metadata": {
    "collapsed": false,
    "pycharm": {
     "name": "#%% md\n"
    }
   }
  },
  {
   "cell_type": "markdown",
   "source": [
    "$\\displaystyle \\lim_{x \\to 0} \\frac{\\sin{x} + \\ln{x}}{x} = \\infty$"
   ],
   "metadata": {
    "collapsed": false,
    "pycharm": {
     "name": "#%% md\n"
    }
   }
  }
 ],
 "metadata": {
  "kernelspec": {
   "display_name": "Python 3",
   "language": "python",
   "name": "python3"
  },
  "language_info": {
   "codemirror_mode": {
    "name": "ipython",
    "version": 3
   },
   "file_extension": ".py",
   "mimetype": "text/x-python",
   "name": "python",
   "nbconvert_exporter": "python",
   "pygments_lexer": "ipython3",
   "version": "3.8.8"
  }
 },
 "nbformat": 4,
 "nbformat_minor": 5
}