{
 "cells": [
  {
   "cell_type": "markdown",
   "id": "41148069-cd03-4bb2-837d-c61cb9d0e060",
   "metadata": {},
   "source": [
    "## Тема 6 “Понятие о производной”"
   ]
  },
  {
   "cell_type": "markdown",
   "id": "ef5b565e-9c90-4d6d-872e-d06516fa461f",
   "metadata": {},
   "source": [
    "Найти производную выражения"
   ]
  },
  {
   "cell_type": "markdown",
   "id": "632b5c74-677c-45e6-bd70-a08324cf9864",
   "metadata": {},
   "source": [
    "$\\sin{x} * \\cos{x}$"
   ]
  },
  {
   "cell_type": "markdown",
   "id": "40d74e2f-b2af-4b8d-b518-c2e21a524f2e",
   "metadata": {},
   "source": [
    "$\\frac{d}{dx}(\\sin{x} * \\cos{x}) = \\cos^2{x} - \\sin^2{x}$"
   ]
  },
  {
   "cell_type": "markdown",
   "id": "ab37237a-7751-408a-9d0e-bf82f26bbe5e",
   "metadata": {},
   "source": [
    "$\\ln{(2x - 1)^3}$"
   ]
  },
  {
   "cell_type": "markdown",
   "id": "e716f3cc-3d1d-4a60-9fbc-c795021aad3f",
   "metadata": {},
   "source": [
    "$\\frac{d}{dx}(\\ln{(2x - 1)^3}) = \\frac{6}{2x - 1}$"
   ]
  },
  {
   "cell_type": "markdown",
   "id": "ba63c553-8891-44ff-b48d-6be58135c3c1",
   "metadata": {},
   "source": [
    "$\\sqrt{\\sin^2{\\ln{x^3}}}$"
   ]
  },
  {
   "cell_type": "markdown",
   "id": "67a27a68-bc1a-4b8a-849d-548ef9205426",
   "metadata": {},
   "source": [
    "$\\frac{d}{dx}(\\sqrt{\\sin^2{\\ln{x^3}}}) = \\frac{3\\sqrt{\\sin^2{\\ln{x^3}}} \\cot{\\ln{x^3}}}{x}$"
   ]
  },
  {
   "cell_type": "markdown",
   "id": "dd9ec2bf-b6d8-4162-b5ac-ebc8263ccb93",
   "metadata": {},
   "source": [
    "$\\frac{x^4}{\\ln{x}}$"
   ]
  },
  {
   "cell_type": "markdown",
   "id": "2fa8e218-e910-40de-b33a-3f8ee302c0e2",
   "metadata": {},
   "source": [
    "$\\frac{d}{dx}(\\frac{x^4}{ln{x}}) = \\frac{x^3(4\\ln{x} - 1)}{\\ln^2{x}}$"
   ]
  },
  {
   "cell_type": "markdown",
   "id": "9803bbd7-de05-4ee5-b5e5-7431c3db0306",
   "metadata": {},
   "source": [
    "Найти выражение производной функции и ее значение в точке\n",
    "\n",
    "$f(x) = \\cos{(x^2 - 3x)}, x_0 = \\sqrt{\\pi}$"
   ]
  },
  {
   "cell_type": "markdown",
   "id": "6aeda040-24c5-4521-9e2b-a24500ed5cc1",
   "metadata": {},
   "source": [
    "$f(x) = \\cos{((\\pi - 3\\sqrt{\\pi})} = - \\cos{3\\sqrt{\\pi}}$"
   ]
  },
  {
   "cell_type": "markdown",
   "id": "34d7b1b4-0b51-4dab-83d3-d9679b210817",
   "metadata": {},
   "source": [
    "Найти значение производной функции в точке\n",
    "\n",
    "$f(x) = \\frac{x^3 - x^2 - x - 1}{1 + 2x + 3x^2 - 4x^3}, x_0 = 0$"
   ]
  },
  {
   "cell_type": "markdown",
   "id": "c10ef080-d61b-44ea-b52d-aa77bc2d6923",
   "metadata": {},
   "source": [
    "$f'(x) = - \\frac{x^4 + 4x^3 + 8x^2 - 4x - 1}{(-4x^3 + 3x^2 + 2x + 1)^2} = - \\frac{-1}{1} = 1$"
   ]
  },
  {
   "cell_type": "markdown",
   "id": "f5151d3a-0318-470f-b059-b1243a35f273",
   "metadata": {},
   "source": [
    "Найти угол наклона касательной к графику функции в точке\n",
    "\n",
    "$f(x) = \\sqrt{3x}\\ln{x}, x_0 = 1$"
   ]
  },
  {
   "cell_type": "markdown",
   "id": "4146d6fb-3104-4e24-918b-c45100bc7b23",
   "metadata": {},
   "source": [
    "$f'(x) = \\frac{\\sqrt{3}(\\ln{x} + 2)}{2\\sqrt{x}} = \\frac{2\\sqrt{3}}{2} = \\sqrt{3}$\n",
    "\n",
    "$\\tan{a} = \\sqrt{3} => a = 60 deg$"
   ]
  }
 ],
 "metadata": {
  "kernelspec": {
   "display_name": "Python 3",
   "language": "python",
   "name": "python3"
  },
  "language_info": {
   "codemirror_mode": {
    "name": "ipython",
    "version": 3
   },
   "file_extension": ".py",
   "mimetype": "text/x-python",
   "name": "python",
   "nbconvert_exporter": "python",
   "pygments_lexer": "ipython3",
   "version": "3.8.8"
  }
 },
 "nbformat": 4,
 "nbformat_minor": 5
}
