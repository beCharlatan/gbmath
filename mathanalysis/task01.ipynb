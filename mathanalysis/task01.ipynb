{
 "cells": [
  {
   "cell_type": "markdown",
   "id": "2dc4c527-fc06-4f0e-8843-8fa89163423e",
   "metadata": {},
   "source": [
    "# Практическое задание №1"
   ]
  },
  {
   "cell_type": "markdown",
   "id": "045c4b95-5295-4cde-b198-6e0433b34f2d",
   "metadata": {},
   "source": [
    "## Тема “Введение в математический анализ”"
   ]
  },
  {
   "cell_type": "markdown",
   "id": "8ff25850-39a3-45f1-be9e-15a664a22bb8",
   "metadata": {},
   "source": [
    "- Как соотносятся понятия “множество” и “последовательность”? (в ответе использовать слова типа: часть, целое, общее, частное, родитель, дочерний субъект и т.д.)\n",
    "\n",
    "Числовая последовательность это упорядоченное множество вещественных чисел или это отображение натуральных чисел и их порядковых номеров во множестве вещественных чисел. Таким образом, последовательность - это упорядоченное множество."
   ]
  },
  {
   "cell_type": "markdown",
   "id": "46298f7d-0cda-4763-8b5e-adb90d508675",
   "metadata": {},
   "source": [
    "- Прочитать высказывания математической логики, построить их отрицания и установить истинность."
   ]
  },
  {
   "cell_type": "markdown",
   "id": "0755d8d4-6b52-4888-b336-94709c5edc8e",
   "metadata": {},
   "source": [
    "1. Для любого элемента множеста y, принадлежащего отрезку от 0 до 1 включительно потому что сигнум соответствующего элемента равен 1. Высказывание ложно, потому что sgn(0) = 0. \n",
    "### $\\exists$y $\\in$ [0;1] : sgn(y) $\\neq$ 1\n",
    "\n",
    "2. Для любого n из множества натуральных чисел больше 2 существуют x, y и z, принадлежащие натуральному множеству чисел такие, что $x^n$ = $y^n$ + $z^n$.\n",
    "### $\\exists$x $\\in$ N > 2 : $\\exists$x, y, z $\\in$ N : $x^n$ $\\neq$ $y^n$ + $z^n$\n",
    "\n",
    "3. Для любого x принадлежащего множеству действиетльных чисел, существует такое множество X, принадлежащее множеству действительных чисел такое, что множество X больше элемента x.\n",
    "### $\\forall$x $\\in$ R $\\nexists$X $\\in$ R : X > x\n",
    "\n",
    "4. Для любого x, принадлежащего множеству комплексных чисел, не существует такого y, также принадлежащему множеству комплексных чисел такое, что x > y или x < y. Высказывание ложно.\n",
    "### $\\exists$x $\\in$ C $\\exists$y $\\in$ C : x > y || x < y\n",
    "\n",
    "5. Для любого y на отрезке от 0 до $\\frac{\\pi}{2}$ включительно существует такое эпсилон больший 0, что $\\sin$ y  < $\\sin$ (y + эпсилон). Высказывание истинно.\n",
    "### $\\exists$y $\\in$ [0; $\\frac{\\pi}{2}$] $\\exists$e > 0 : $\\sin$ y  >= $\\sin$ (y + e)\n",
    "\n",
    "6. Для любого y на отрезке от 0 до $\\frac{\\pi}{2}$ невключительно существует такое эпсилон больший 0, что $\\cos$ y  > $\\cos$ (y + эпсилон). Высказывание истинно.\n",
    "### $\\exists$y $\\in$ [0; $\\frac{\\pi}{2}$) $\\exists$e > 0 : $\\cos$ y  <= $\\cos$ (y + e)\n",
    "\n",
    "7. Существует такое x, что x не пренадлежит множеству натуральных, целых, рациональных, действительных и комплексных чисел. Высказываение истинно.\n",
    "### $\\forall$x : x $\\in$ {N, Z, Q, R, C}"
   ]
  },
  {
   "cell_type": "markdown",
   "id": "c8001d11-3bdd-4066-bb4c-ddfde4cd07f2",
   "metadata": {},
   "source": [
    "## Тема “Множество”"
   ]
  },
  {
   "cell_type": "markdown",
   "id": "75c5f847-dc06-4a90-8b55-d96327364ae2",
   "metadata": {},
   "source": [
    "- Даны три множества a,b и с. Необходимо выполнить все изученные виды бинарных операций над всеми комбинациями множеств.\n",
    "- Выполнить задание 1 на языке Python"
   ]
  },
  {
   "cell_type": "code",
   "execution_count": 17,
   "id": "20295d6f-ae55-45ab-9865-5eadab5e7c27",
   "metadata": {},
   "outputs": [
    {
     "name": "stdout",
     "output_type": "stream",
     "text": [
      "a == b False\n",
      "a == c False\n",
      "b == c False\n"
     ]
    }
   ],
   "source": [
    "a = {2, 4, 6}\n",
    "b = {1, 3, 5}\n",
    "c = {1, 2, 3}\n",
    "\n",
    "print('a == b', a == b)\n",
    "print('a == c', a == c)\n",
    "print('b == c', b == c)"
   ]
  },
  {
   "cell_type": "code",
   "execution_count": 18,
   "id": "cb75ded1-de01-4d53-be72-d6d793803391",
   "metadata": {},
   "outputs": [
    {
     "name": "stdout",
     "output_type": "stream",
     "text": [
      "{1, 2, 3, 4, 5, 6} a | b\n",
      "{1, 2, 3, 4, 6} a | c\n",
      "{1, 2, 3, 5} b | c\n"
     ]
    }
   ],
   "source": [
    "print(a.union(b), 'a | b')\n",
    "print(a.union(c), 'a | c')\n",
    "print(b.union(c), 'b | c')"
   ]
  },
  {
   "cell_type": "code",
   "execution_count": 19,
   "id": "f6f7a847-d7be-474f-87e6-36ee563e6bd2",
   "metadata": {},
   "outputs": [
    {
     "name": "stdout",
     "output_type": "stream",
     "text": [
      "set() a & b\n",
      "{2} a & c\n",
      "{1, 3} b & c\n"
     ]
    }
   ],
   "source": [
    "print(a.intersection(b), 'a & b')\n",
    "print(a.intersection(c), 'a & c')\n",
    "print(b.intersection(c), 'b & c')"
   ]
  },
  {
   "cell_type": "markdown",
   "id": "aca66c43-b87e-4451-894c-fe6921cb57a5",
   "metadata": {},
   "source": [
    "set() - пустое множество"
   ]
  },
  {
   "cell_type": "code",
   "execution_count": 20,
   "id": "429366ef-14c1-4515-ae44-8aa656d863e7",
   "metadata": {},
   "outputs": [
    {
     "name": "stdout",
     "output_type": "stream",
     "text": [
      "{2, 4, 6} a - b\n",
      "{4, 6} a - c\n",
      "{5} b - c\n",
      "{1, 3, 5} b - a\n",
      "{1, 3} c - a\n",
      "{2} c - b\n"
     ]
    }
   ],
   "source": [
    "print(a.difference(b), 'a - b')\n",
    "print(a.difference(c), 'a - c')\n",
    "print(b.difference(c), 'b - c')\n",
    "\n",
    "print(b.difference(a), 'b - a')\n",
    "print(c.difference(a), 'c - a')\n",
    "print(c.difference(b), 'c - b')"
   ]
  },
  {
   "cell_type": "code",
   "execution_count": 23,
   "id": "dadfa55b-cf1f-486a-b2bf-383d3f5685e9",
   "metadata": {},
   "outputs": [
    {
     "name": "stdout",
     "output_type": "stream",
     "text": [
      "{1, 2, 3, 4, 5, 6} a ^ b\n",
      "{1, 3, 4, 6} a ^ c\n",
      "{2, 5} b ^ c\n"
     ]
    }
   ],
   "source": [
    "print(a.symmetric_difference(b), 'a ^ b')\n",
    "print(a.symmetric_difference(c), 'a ^ c')\n",
    "print(b.symmetric_difference(c), 'b ^ c')"
   ]
  },
  {
   "cell_type": "code",
   "execution_count": 25,
   "id": "1e7cb65a-d870-4672-b455-bbf8173b2bfb",
   "metadata": {},
   "outputs": [
    {
     "name": "stdout",
     "output_type": "stream",
     "text": [
      "False a является подмножеством b\n",
      "False a является подмножеством c\n",
      "False b является подмножеством c\n"
     ]
    }
   ],
   "source": [
    "print(a.issubset(b), 'a является подмножеством b')\n",
    "print(a.issubset(c), 'a является подмножеством c')\n",
    "print(b.issubset(c), 'b является подмножеством c')"
   ]
  },
  {
   "cell_type": "code",
   "execution_count": 26,
   "id": "62c59ec6-8d48-471a-b335-a6108797e4b9",
   "metadata": {},
   "outputs": [
    {
     "name": "stdout",
     "output_type": "stream",
     "text": [
      "False a < b\n",
      "False a < c\n",
      "False b < c\n"
     ]
    }
   ],
   "source": [
    "print(a < b, 'a < b')\n",
    "print(a < c, 'a < c')\n",
    "print(b < c, 'b < c')"
   ]
  }
 ],
 "metadata": {
  "kernelspec": {
   "display_name": "Python 3",
   "language": "python",
   "name": "python3"
  },
  "language_info": {
   "codemirror_mode": {
    "name": "ipython",
    "version": 3
   },
   "file_extension": ".py",
   "mimetype": "text/x-python",
   "name": "python",
   "nbconvert_exporter": "python",
   "pygments_lexer": "ipython3",
   "version": "3.8.8"
  }
 },
 "nbformat": 4,
 "nbformat_minor": 5
}